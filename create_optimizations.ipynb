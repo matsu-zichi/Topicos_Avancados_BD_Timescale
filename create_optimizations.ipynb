{
 "cells": [
  {
   "cell_type": "code",
   "execution_count": null,
   "metadata": {},
   "outputs": [],
   "source": [
    "import psycopg2"
   ]
  },
  {
   "cell_type": "code",
   "execution_count": null,
   "metadata": {},
   "outputs": [],
   "source": [
    "CONNECTION = \"<URL DA CONEXÃO>\"\n",
    "conn = psycopg2.connect(CONNECTION)\n",
    "cursor = conn.cursor()"
   ]
  }
 ],
 "metadata": {
  "language_info": {
   "name": "python"
  },
  "orig_nbformat": 4
 },
 "nbformat": 4,
 "nbformat_minor": 2
}
